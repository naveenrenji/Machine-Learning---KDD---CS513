{
 "cells": [
  {
   "cell_type": "markdown",
   "id": "bcfd8fed",
   "metadata": {},
   "source": [
    "# Name : Naveen Mathews Renji | CWID : 20016323 "
   ]
  },
  {
   "cell_type": "markdown",
   "id": "68d442e3",
   "metadata": {},
   "source": [
    "## Import Libraries"
   ]
  },
  {
   "cell_type": "code",
   "execution_count": null,
   "id": "8c1c1333",
   "metadata": {},
   "outputs": [],
   "source": [
    "import pandas as pd\n",
    "import numpy as np \n",
    "import seaborn as sns\n",
    "import matplotlib.pyplot as plt\n",
    "from pandas.plotting import scatter_matrix\n",
    "from sklearn.neighbors import KNeighborsClassifier\n",
    "from sklearn.model_selection import train_test_split\n",
    "from sklearn.metrics import classification_report, confusion_matrix"
   ]
  },
  {
   "cell_type": "markdown",
   "id": "d7bd1040",
   "metadata": {},
   "source": [
    "## Load the dataset"
   ]
  },
  {
   "cell_type": "code",
   "execution_count": null,
   "id": "4f63dd50",
   "metadata": {},
   "outputs": [],
   "source": [
    "df = pd.read_csv(\"CS513_targeting_num.csv\")"
   ]
  },
  {
   "cell_type": "code",
   "execution_count": null,
   "id": "8168f854",
   "metadata": {},
   "outputs": [],
   "source": [
    "df.head()"
   ]
  },
  {
   "cell_type": "code",
   "execution_count": null,
   "id": "1ec3d3b9",
   "metadata": {},
   "outputs": [],
   "source": [
    "num_rows = df.shape[0]\n",
    "print(num_rows)"
   ]
  },
  {
   "cell_type": "code",
   "execution_count": null,
   "id": "5e0f0965",
   "metadata": {},
   "outputs": [],
   "source": [
    "df.dtypes"
   ]
  },
  {
   "cell_type": "code",
   "execution_count": null,
   "id": "35a3741e",
   "metadata": {},
   "outputs": [],
   "source": [
    "print(df.isnull().sum())"
   ]
  },
  {
   "cell_type": "markdown",
   "id": "291575df",
   "metadata": {},
   "source": [
    "## Taking care of missing values"
   ]
  },
  {
   "cell_type": "code",
   "execution_count": null,
   "id": "30a38697",
   "metadata": {},
   "outputs": [],
   "source": [
    "#I am replacing the empty values from ' ' with nan \n",
    "#which will enable me to perform operations on the column\n",
    "\n",
    "df = df.replace(' ', float('nan'))\n",
    "df = df.replace('', float('nan'))\n",
    "df = df.replace('  ', float('nan'))\n",
    "\n",
    "\n",
    "\n",
    "#Income column was of type object, \n",
    "#so converted it to numeric type so i can calculate the summaries.\n",
    "df[\"Income\"] = pd.to_numeric(df[\"Income\"])\n",
    "\n",
    "#Replacing the missing values with the “mean” of the column\n",
    "mean_value=df['Income'].mean()\n",
    "df['Income'].fillna(value=mean_value, inplace=True)\n",
    "\n",
    "#Checking for missing values again\n",
    "print(df.isnull().sum())"
   ]
  },
  {
   "cell_type": "markdown",
   "id": "e33be656",
   "metadata": {},
   "source": [
    "## Creating KNN Model and classifying the training data"
   ]
  },
  {
   "cell_type": "code",
   "execution_count": null,
   "id": "97b9ea93",
   "metadata": {},
   "outputs": [],
   "source": [
    "# Replace \"F\" with 0 and \"M\" with 1 in the \"Gender\" column\n",
    "df['Gender'] = df['Gender'].replace({'F': 0, 'M': 1})\n",
    "\n",
    "X = df.drop(columns='Purchase')\n",
    "y = np.array(df['Purchase'])\n",
    "\n",
    "print(X)"
   ]
  },
  {
   "cell_type": "code",
   "execution_count": null,
   "id": "e4414755",
   "metadata": {},
   "outputs": [],
   "source": [
    "X_train, X_test, y_train, y_test = train_test_split(\n",
    "    X, y, test_size = 0.30)"
   ]
  },
  {
   "cell_type": "code",
   "execution_count": null,
   "id": "3f382217",
   "metadata": {},
   "outputs": [],
   "source": [
    "import warnings\n",
    "\n",
    "# Ignore all warnings\n",
    "warnings.filterwarnings(\"ignore\")\n",
    "\n",
    "#creating knn model with k=3\n",
    "knn = KNeighborsClassifier(n_neighbors = 3)\n",
    "\n",
    "#training the model\n",
    "knn.fit(X_train, y_train)\n",
    "\n",
    "#predicting the Purchase values for the test data which is 30%\n",
    "Y_pred = knn.predict(X_test)\n",
    "\n",
    "print(\"The Classifiction models for KNN methodology for k Value = \",3)\n",
    "print(\"The Score is -\",knn.score(X_test, y_test))\n",
    "print(\"The Confusion Matrix is -\")\n",
    "print(confusion_matrix(y_test,Y_pred))\n",
    "print(\"The Classification Report Matrix is -\")\n",
    "print(classification_report(y_test,Y_pred))\n",
    "\n",
    "# Computing specificity\n",
    "tn, fp, fn, tp = confusion_matrix(y_test, Y_pred).ravel()\n",
    "specificity = tn / (tn + fp)\n",
    "print(specificity)"
   ]
  }
 ],
 "metadata": {
  "kernelspec": {
   "display_name": "Python 3 (ipykernel)",
   "language": "python",
   "name": "python3"
  },
  "language_info": {
   "codemirror_mode": {
    "name": "ipython",
    "version": 3
   },
   "file_extension": ".py",
   "mimetype": "text/x-python",
   "name": "python",
   "nbconvert_exporter": "python",
   "pygments_lexer": "ipython3",
   "version": "3.9.13"
  }
 },
 "nbformat": 4,
 "nbformat_minor": 5
}
