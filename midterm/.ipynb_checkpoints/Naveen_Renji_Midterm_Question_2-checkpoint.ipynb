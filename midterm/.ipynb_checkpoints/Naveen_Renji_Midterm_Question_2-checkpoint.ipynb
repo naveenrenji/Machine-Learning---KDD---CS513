{
 "cells": [
  {
   "cell_type": "markdown",
   "id": "bcfd8fed",
   "metadata": {},
   "source": [
    "# Name : Naveen Mathews Renji | CWID : 20016323 "
   ]
  },
  {
   "cell_type": "markdown",
   "id": "68d442e3",
   "metadata": {},
   "source": [
    "## Import Libraries"
   ]
  },
  {
   "cell_type": "code",
   "execution_count": null,
   "id": "8c1c1333",
   "metadata": {},
   "outputs": [],
   "source": [
    "import pandas as pd\n",
    "import seaborn as sns\n",
    "import matplotlib.pyplot as plt\n",
    "from pandas.plotting import scatter_matrix\n"
   ]
  },
  {
   "cell_type": "markdown",
   "id": "d7bd1040",
   "metadata": {},
   "source": [
    "## Load the dataset"
   ]
  },
  {
   "cell_type": "code",
   "execution_count": null,
   "id": "4f63dd50",
   "metadata": {},
   "outputs": [],
   "source": [
    "df = pd.read_csv(\"CS513_targeting_num.csv\")"
   ]
  },
  {
   "cell_type": "code",
   "execution_count": null,
   "id": "8168f854",
   "metadata": {},
   "outputs": [],
   "source": [
    "df.head()"
   ]
  },
  {
   "cell_type": "code",
   "execution_count": null,
   "id": "1ec3d3b9",
   "metadata": {},
   "outputs": [],
   "source": [
    "num_rows = df.shape[0]\n",
    "print(num_rows)"
   ]
  },
  {
   "cell_type": "code",
   "execution_count": null,
   "id": "7ec7e645",
   "metadata": {},
   "outputs": [],
   "source": [
    "print(df.isnull().sum())"
   ]
  },
  {
   "cell_type": "markdown",
   "id": "291575df",
   "metadata": {},
   "source": [
    "## Summarizing each numerical column (e.g. min, max, mean )"
   ]
  },
  {
   "cell_type": "code",
   "execution_count": null,
   "id": "30a38697",
   "metadata": {},
   "outputs": [],
   "source": [
    "#I am replacing the empty values from ' ' with nan \n",
    "#which will enable me to perform operations on the column\n",
    "\n",
    "df = df.replace(' ', float('nan'))\n",
    "df = df.replace('', float('nan'))\n",
    "df = df.replace('  ', float('nan'))\n",
    "\n",
    "\n",
    "\n",
    "#Income column was of type object, \n",
    "#so converted it to numeric type so i can calculate the summaries.\n",
    "df[\"Income\"] = pd.to_numeric(df[\"Income\"])\n",
    "\n",
    "df[\"Income\"].describe()"
   ]
  },
  {
   "cell_type": "code",
   "execution_count": null,
   "id": "d8cfd2b1",
   "metadata": {},
   "outputs": [],
   "source": [
    "df[\"Age\"].describe()"
   ]
  },
  {
   "cell_type": "markdown",
   "id": "97409d98",
   "metadata": {},
   "source": [
    "## Identify missing values\n"
   ]
  },
  {
   "cell_type": "code",
   "execution_count": null,
   "id": "7081adee",
   "metadata": {},
   "outputs": [],
   "source": [
    "print(df.isnull().sum())"
   ]
  },
  {
   "cell_type": "markdown",
   "id": "cf8e6726",
   "metadata": {},
   "source": [
    "## Replacing the missing values with the “mean” of the column"
   ]
  },
  {
   "cell_type": "code",
   "execution_count": null,
   "id": "e2585877",
   "metadata": {},
   "outputs": [],
   "source": [
    "#Finding the mean of the \"Income\"\n",
    "mean_value=df['Income'].mean()\n",
    "  \n",
    "# Replace NaNs in column \"Income\" with the\n",
    "# mean of values in the same column\n",
    "df['Income'].fillna(value=mean_value, inplace=True)\n",
    "print(df.isnull().sum())"
   ]
  },
  {
   "cell_type": "markdown",
   "id": "7722b8d8",
   "metadata": {},
   "source": [
    "## Displaying the scatter plot of Age and Income"
   ]
  },
  {
   "cell_type": "code",
   "execution_count": null,
   "id": "24831d0f",
   "metadata": {},
   "outputs": [],
   "source": [
    "columns = ['Age', 'Income']\n",
    "   \n",
    "scatter_matrix(df[columns])\n",
    "plt.show()"
   ]
  },
  {
   "cell_type": "markdown",
   "id": "d453cba2",
   "metadata": {},
   "source": [
    "##  Box plot for columns Age and Income"
   ]
  },
  {
   "cell_type": "code",
   "execution_count": null,
   "id": "92653663",
   "metadata": {},
   "outputs": [],
   "source": [
    "fig, ax = plt.subplots()\n",
    "ax.boxplot(df['Age'])\n",
    "ax.set_xticklabels(['Age'])\n",
    "ax.set_ylabel('Values')\n",
    "plt.show()"
   ]
  },
  {
   "cell_type": "code",
   "execution_count": null,
   "id": "85d4e3c3",
   "metadata": {},
   "outputs": [],
   "source": [
    "fig, ax = plt.subplots()\n",
    "ax.boxplot(df['Income'])\n",
    "ax.set_xticklabels(['Income'])\n",
    "ax.set_ylabel('Values')\n",
    "plt.show()"
   ]
  }
 ],
 "metadata": {
  "kernelspec": {
   "display_name": "Python 3 (ipykernel)",
   "language": "python",
   "name": "python3"
  },
  "language_info": {
   "codemirror_mode": {
    "name": "ipython",
    "version": 3
   },
   "file_extension": ".py",
   "mimetype": "text/x-python",
   "name": "python",
   "nbconvert_exporter": "python",
   "pygments_lexer": "ipython3",
   "version": "3.9.13"
  }
 },
 "nbformat": 4,
 "nbformat_minor": 5
}
