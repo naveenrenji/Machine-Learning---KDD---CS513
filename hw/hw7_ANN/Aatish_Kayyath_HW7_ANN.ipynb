{
 "cells": [
  {
   "cell_type": "markdown",
   "id": "efd5cb70",
   "metadata": {
    "id": "efd5cb70"
   },
   "source": [
    "The “breast cancer dataset” in CANVAS was obtained from the University of \n",
    "Wisconsin Hospitals, Madison from Dr. William H. Wolberg. The features in the \n",
    "dataset, described below, have been categorized from 1 to 10.\n",
    "Use the Naïve Bayes methodology to develop a classification model for the \n",
    "Diagnosis. \n",
    "Important: make sure your categories are represented by the “factor” data \n",
    "type in R and delete the rows with missing values. Use 30% test 70% training \n",
    "data  "
   ]
  },
  {
   "cell_type": "markdown",
   "id": "_ABWGWbsRMMj",
   "metadata": {
    "id": "_ABWGWbsRMMj"
   },
   "source": [
    "AATISH KAYYATH\n",
    "CWID : 20013429"
   ]
  },
  {
   "cell_type": "code",
   "execution_count": 15,
   "id": "M-1BcR1OQ3Zp",
   "metadata": {
    "id": "M-1BcR1OQ3Zp"
   },
   "outputs": [],
   "source": []
  },
  {
   "cell_type": "markdown",
   "id": "wwYIi5_PQ3p5",
   "metadata": {
    "id": "wwYIi5_PQ3p5"
   },
   "source": []
  },
  {
   "cell_type": "code",
   "execution_count": 12,
   "id": "77b35385",
   "metadata": {
    "id": "77b35385"
   },
   "outputs": [],
   "source": [
    "import numpy as np\n",
    "import pandas as pd\n",
    "from sklearn.model_selection import train_test_split\n",
    "import pandas as pd\n",
    "from sklearn.model_selection import train_test_split\n",
    "from sklearn.preprocessing import StandardScaler\n",
    "import matplotlib.pyplot as plt \n",
    "import seaborn as sns\n",
    "from sklearn.metrics import accuracy_score, precision_score, recall_score, f1_score\n"
   ]
  },
  {
   "cell_type": "code",
   "execution_count": 2,
   "id": "QRT9qeiHPTSa",
   "metadata": {
    "colab": {
     "base_uri": "https://localhost:8080/",
     "height": 73
    },
    "id": "QRT9qeiHPTSa",
    "outputId": "79b45b99-7eb0-45e1-e802-54f08b40a1c2"
   },
   "outputs": [
    {
     "data": {
      "text/html": [
       "\n",
       "     <input type=\"file\" id=\"files-32d51f45-af6b-480a-b901-3a4f0d23b080\" name=\"files[]\" multiple disabled\n",
       "        style=\"border:none\" />\n",
       "     <output id=\"result-32d51f45-af6b-480a-b901-3a4f0d23b080\">\n",
       "      Upload widget is only available when the cell has been executed in the\n",
       "      current browser session. Please rerun this cell to enable.\n",
       "      </output>\n",
       "      <script>// Copyright 2017 Google LLC\n",
       "//\n",
       "// Licensed under the Apache License, Version 2.0 (the \"License\");\n",
       "// you may not use this file except in compliance with the License.\n",
       "// You may obtain a copy of the License at\n",
       "//\n",
       "//      http://www.apache.org/licenses/LICENSE-2.0\n",
       "//\n",
       "// Unless required by applicable law or agreed to in writing, software\n",
       "// distributed under the License is distributed on an \"AS IS\" BASIS,\n",
       "// WITHOUT WARRANTIES OR CONDITIONS OF ANY KIND, either express or implied.\n",
       "// See the License for the specific language governing permissions and\n",
       "// limitations under the License.\n",
       "\n",
       "/**\n",
       " * @fileoverview Helpers for google.colab Python module.\n",
       " */\n",
       "(function(scope) {\n",
       "function span(text, styleAttributes = {}) {\n",
       "  const element = document.createElement('span');\n",
       "  element.textContent = text;\n",
       "  for (const key of Object.keys(styleAttributes)) {\n",
       "    element.style[key] = styleAttributes[key];\n",
       "  }\n",
       "  return element;\n",
       "}\n",
       "\n",
       "// Max number of bytes which will be uploaded at a time.\n",
       "const MAX_PAYLOAD_SIZE = 100 * 1024;\n",
       "\n",
       "function _uploadFiles(inputId, outputId) {\n",
       "  const steps = uploadFilesStep(inputId, outputId);\n",
       "  const outputElement = document.getElementById(outputId);\n",
       "  // Cache steps on the outputElement to make it available for the next call\n",
       "  // to uploadFilesContinue from Python.\n",
       "  outputElement.steps = steps;\n",
       "\n",
       "  return _uploadFilesContinue(outputId);\n",
       "}\n",
       "\n",
       "// This is roughly an async generator (not supported in the browser yet),\n",
       "// where there are multiple asynchronous steps and the Python side is going\n",
       "// to poll for completion of each step.\n",
       "// This uses a Promise to block the python side on completion of each step,\n",
       "// then passes the result of the previous step as the input to the next step.\n",
       "function _uploadFilesContinue(outputId) {\n",
       "  const outputElement = document.getElementById(outputId);\n",
       "  const steps = outputElement.steps;\n",
       "\n",
       "  const next = steps.next(outputElement.lastPromiseValue);\n",
       "  return Promise.resolve(next.value.promise).then((value) => {\n",
       "    // Cache the last promise value to make it available to the next\n",
       "    // step of the generator.\n",
       "    outputElement.lastPromiseValue = value;\n",
       "    return next.value.response;\n",
       "  });\n",
       "}\n",
       "\n",
       "/**\n",
       " * Generator function which is called between each async step of the upload\n",
       " * process.\n",
       " * @param {string} inputId Element ID of the input file picker element.\n",
       " * @param {string} outputId Element ID of the output display.\n",
       " * @return {!Iterable<!Object>} Iterable of next steps.\n",
       " */\n",
       "function* uploadFilesStep(inputId, outputId) {\n",
       "  const inputElement = document.getElementById(inputId);\n",
       "  inputElement.disabled = false;\n",
       "\n",
       "  const outputElement = document.getElementById(outputId);\n",
       "  outputElement.innerHTML = '';\n",
       "\n",
       "  const pickedPromise = new Promise((resolve) => {\n",
       "    inputElement.addEventListener('change', (e) => {\n",
       "      resolve(e.target.files);\n",
       "    });\n",
       "  });\n",
       "\n",
       "  const cancel = document.createElement('button');\n",
       "  inputElement.parentElement.appendChild(cancel);\n",
       "  cancel.textContent = 'Cancel upload';\n",
       "  const cancelPromise = new Promise((resolve) => {\n",
       "    cancel.onclick = () => {\n",
       "      resolve(null);\n",
       "    };\n",
       "  });\n",
       "\n",
       "  // Wait for the user to pick the files.\n",
       "  const files = yield {\n",
       "    promise: Promise.race([pickedPromise, cancelPromise]),\n",
       "    response: {\n",
       "      action: 'starting',\n",
       "    }\n",
       "  };\n",
       "\n",
       "  cancel.remove();\n",
       "\n",
       "  // Disable the input element since further picks are not allowed.\n",
       "  inputElement.disabled = true;\n",
       "\n",
       "  if (!files) {\n",
       "    return {\n",
       "      response: {\n",
       "        action: 'complete',\n",
       "      }\n",
       "    };\n",
       "  }\n",
       "\n",
       "  for (const file of files) {\n",
       "    const li = document.createElement('li');\n",
       "    li.append(span(file.name, {fontWeight: 'bold'}));\n",
       "    li.append(span(\n",
       "        `(${file.type || 'n/a'}) - ${file.size} bytes, ` +\n",
       "        `last modified: ${\n",
       "            file.lastModifiedDate ? file.lastModifiedDate.toLocaleDateString() :\n",
       "                                    'n/a'} - `));\n",
       "    const percent = span('0% done');\n",
       "    li.appendChild(percent);\n",
       "\n",
       "    outputElement.appendChild(li);\n",
       "\n",
       "    const fileDataPromise = new Promise((resolve) => {\n",
       "      const reader = new FileReader();\n",
       "      reader.onload = (e) => {\n",
       "        resolve(e.target.result);\n",
       "      };\n",
       "      reader.readAsArrayBuffer(file);\n",
       "    });\n",
       "    // Wait for the data to be ready.\n",
       "    let fileData = yield {\n",
       "      promise: fileDataPromise,\n",
       "      response: {\n",
       "        action: 'continue',\n",
       "      }\n",
       "    };\n",
       "\n",
       "    // Use a chunked sending to avoid message size limits. See b/62115660.\n",
       "    let position = 0;\n",
       "    do {\n",
       "      const length = Math.min(fileData.byteLength - position, MAX_PAYLOAD_SIZE);\n",
       "      const chunk = new Uint8Array(fileData, position, length);\n",
       "      position += length;\n",
       "\n",
       "      const base64 = btoa(String.fromCharCode.apply(null, chunk));\n",
       "      yield {\n",
       "        response: {\n",
       "          action: 'append',\n",
       "          file: file.name,\n",
       "          data: base64,\n",
       "        },\n",
       "      };\n",
       "\n",
       "      let percentDone = fileData.byteLength === 0 ?\n",
       "          100 :\n",
       "          Math.round((position / fileData.byteLength) * 100);\n",
       "      percent.textContent = `${percentDone}% done`;\n",
       "\n",
       "    } while (position < fileData.byteLength);\n",
       "  }\n",
       "\n",
       "  // All done.\n",
       "  yield {\n",
       "    response: {\n",
       "      action: 'complete',\n",
       "    }\n",
       "  };\n",
       "}\n",
       "\n",
       "scope.google = scope.google || {};\n",
       "scope.google.colab = scope.google.colab || {};\n",
       "scope.google.colab._files = {\n",
       "  _uploadFiles,\n",
       "  _uploadFilesContinue,\n",
       "};\n",
       "})(self);\n",
       "</script> "
      ],
      "text/plain": [
       "<IPython.core.display.HTML object>"
      ]
     },
     "metadata": {},
     "output_type": "display_data"
    },
    {
     "name": "stdout",
     "output_type": "stream",
     "text": [
      "Saving breast-cancer-wisconsin.csv to breast-cancer-wisconsin.csv\n"
     ]
    }
   ],
   "source": [
    "from google.colab import files\n",
    "uploaded = files.upload()"
   ]
  },
  {
   "cell_type": "code",
   "execution_count": 3,
   "id": "d79f032c",
   "metadata": {
    "id": "d79f032c"
   },
   "outputs": [],
   "source": [
    "df=pd.read_csv('breast-cancer-wisconsin.csv')\n"
   ]
  },
  {
   "cell_type": "code",
   "execution_count": 4,
   "id": "6e468ec6",
   "metadata": {
    "id": "6e468ec6"
   },
   "outputs": [],
   "source": [
    "del df['Sample']"
   ]
  },
  {
   "cell_type": "code",
   "execution_count": 5,
   "id": "2f071eaf",
   "metadata": {
    "colab": {
     "base_uri": "https://localhost:8080/"
    },
    "id": "2f071eaf",
    "outputId": "f79266c8-3a7a-4783-f137-b002d8b7cb7a"
   },
   "outputs": [
    {
     "data": {
      "text/plain": [
       "(699, 10)"
      ]
     },
     "execution_count": 5,
     "metadata": {},
     "output_type": "execute_result"
    }
   ],
   "source": [
    "df.shape"
   ]
  },
  {
   "cell_type": "code",
   "execution_count": 6,
   "id": "bbe3cec3",
   "metadata": {
    "id": "bbe3cec3"
   },
   "outputs": [],
   "source": [
    "#delete rows with missing values\n",
    "df['F6']=df['F6'].replace('?',np.nan)\n",
    "df = df.dropna()"
   ]
  },
  {
   "cell_type": "code",
   "execution_count": 7,
   "id": "d4ecdec7",
   "metadata": {
    "colab": {
     "base_uri": "https://localhost:8080/"
    },
    "id": "d4ecdec7",
    "outputId": "9fa2abfd-c090-490f-8e7c-712682beca8e"
   },
   "outputs": [
    {
     "data": {
      "text/plain": [
       "(683, 10)"
      ]
     },
     "execution_count": 7,
     "metadata": {},
     "output_type": "execute_result"
    }
   ],
   "source": [
    "df.shape"
   ]
  },
  {
   "cell_type": "code",
   "execution_count": 8,
   "id": "59a26adb",
   "metadata": {
    "id": "59a26adb"
   },
   "outputs": [],
   "source": [
    "y=df['Class']\n",
    "X=df.drop('Class',axis=1).values"
   ]
  },
  {
   "cell_type": "code",
   "execution_count": 9,
   "id": "3e6f37e1",
   "metadata": {
    "id": "3e6f37e1"
   },
   "outputs": [],
   "source": [
    "y=np.where(y==2,0,1)"
   ]
  },
  {
   "cell_type": "code",
   "execution_count": 11,
   "id": "e79f2a0b",
   "metadata": {
    "colab": {
     "base_uri": "https://localhost:8080/",
     "height": 206
    },
    "id": "e79f2a0b",
    "outputId": "c602ebfc-725d-46d5-a5e8-52640bef2fac"
   },
   "outputs": [
    {
     "data": {
      "text/html": [
       "\n",
       "  <div id=\"df-ef560566-252c-42b5-978d-b5c93e2e5ff9\">\n",
       "    <div class=\"colab-df-container\">\n",
       "      <div>\n",
       "<style scoped>\n",
       "    .dataframe tbody tr th:only-of-type {\n",
       "        vertical-align: middle;\n",
       "    }\n",
       "\n",
       "    .dataframe tbody tr th {\n",
       "        vertical-align: top;\n",
       "    }\n",
       "\n",
       "    .dataframe thead th {\n",
       "        text-align: right;\n",
       "    }\n",
       "</style>\n",
       "<table border=\"1\" class=\"dataframe\">\n",
       "  <thead>\n",
       "    <tr style=\"text-align: right;\">\n",
       "      <th></th>\n",
       "      <th>F1</th>\n",
       "      <th>F2</th>\n",
       "      <th>F3</th>\n",
       "      <th>F4</th>\n",
       "      <th>F5</th>\n",
       "      <th>F6</th>\n",
       "      <th>F7</th>\n",
       "      <th>F8</th>\n",
       "      <th>F9</th>\n",
       "      <th>Class</th>\n",
       "    </tr>\n",
       "  </thead>\n",
       "  <tbody>\n",
       "    <tr>\n",
       "      <th>0</th>\n",
       "      <td>5</td>\n",
       "      <td>1</td>\n",
       "      <td>1</td>\n",
       "      <td>1</td>\n",
       "      <td>2</td>\n",
       "      <td>1</td>\n",
       "      <td>3</td>\n",
       "      <td>1</td>\n",
       "      <td>1</td>\n",
       "      <td>2</td>\n",
       "    </tr>\n",
       "    <tr>\n",
       "      <th>1</th>\n",
       "      <td>5</td>\n",
       "      <td>4</td>\n",
       "      <td>4</td>\n",
       "      <td>5</td>\n",
       "      <td>7</td>\n",
       "      <td>10</td>\n",
       "      <td>3</td>\n",
       "      <td>2</td>\n",
       "      <td>1</td>\n",
       "      <td>2</td>\n",
       "    </tr>\n",
       "    <tr>\n",
       "      <th>2</th>\n",
       "      <td>3</td>\n",
       "      <td>1</td>\n",
       "      <td>1</td>\n",
       "      <td>1</td>\n",
       "      <td>2</td>\n",
       "      <td>2</td>\n",
       "      <td>3</td>\n",
       "      <td>1</td>\n",
       "      <td>1</td>\n",
       "      <td>2</td>\n",
       "    </tr>\n",
       "    <tr>\n",
       "      <th>3</th>\n",
       "      <td>6</td>\n",
       "      <td>8</td>\n",
       "      <td>8</td>\n",
       "      <td>1</td>\n",
       "      <td>3</td>\n",
       "      <td>4</td>\n",
       "      <td>3</td>\n",
       "      <td>7</td>\n",
       "      <td>1</td>\n",
       "      <td>2</td>\n",
       "    </tr>\n",
       "    <tr>\n",
       "      <th>4</th>\n",
       "      <td>4</td>\n",
       "      <td>1</td>\n",
       "      <td>1</td>\n",
       "      <td>3</td>\n",
       "      <td>2</td>\n",
       "      <td>1</td>\n",
       "      <td>3</td>\n",
       "      <td>1</td>\n",
       "      <td>1</td>\n",
       "      <td>2</td>\n",
       "    </tr>\n",
       "  </tbody>\n",
       "</table>\n",
       "</div>\n",
       "      <button class=\"colab-df-convert\" onclick=\"convertToInteractive('df-ef560566-252c-42b5-978d-b5c93e2e5ff9')\"\n",
       "              title=\"Convert this dataframe to an interactive table.\"\n",
       "              style=\"display:none;\">\n",
       "        \n",
       "  <svg xmlns=\"http://www.w3.org/2000/svg\" height=\"24px\"viewBox=\"0 0 24 24\"\n",
       "       width=\"24px\">\n",
       "    <path d=\"M0 0h24v24H0V0z\" fill=\"none\"/>\n",
       "    <path d=\"M18.56 5.44l.94 2.06.94-2.06 2.06-.94-2.06-.94-.94-2.06-.94 2.06-2.06.94zm-11 1L8.5 8.5l.94-2.06 2.06-.94-2.06-.94L8.5 2.5l-.94 2.06-2.06.94zm10 10l.94 2.06.94-2.06 2.06-.94-2.06-.94-.94-2.06-.94 2.06-2.06.94z\"/><path d=\"M17.41 7.96l-1.37-1.37c-.4-.4-.92-.59-1.43-.59-.52 0-1.04.2-1.43.59L10.3 9.45l-7.72 7.72c-.78.78-.78 2.05 0 2.83L4 21.41c.39.39.9.59 1.41.59.51 0 1.02-.2 1.41-.59l7.78-7.78 2.81-2.81c.8-.78.8-2.07 0-2.86zM5.41 20L4 18.59l7.72-7.72 1.47 1.35L5.41 20z\"/>\n",
       "  </svg>\n",
       "      </button>\n",
       "      \n",
       "  <style>\n",
       "    .colab-df-container {\n",
       "      display:flex;\n",
       "      flex-wrap:wrap;\n",
       "      gap: 12px;\n",
       "    }\n",
       "\n",
       "    .colab-df-convert {\n",
       "      background-color: #E8F0FE;\n",
       "      border: none;\n",
       "      border-radius: 50%;\n",
       "      cursor: pointer;\n",
       "      display: none;\n",
       "      fill: #1967D2;\n",
       "      height: 32px;\n",
       "      padding: 0 0 0 0;\n",
       "      width: 32px;\n",
       "    }\n",
       "\n",
       "    .colab-df-convert:hover {\n",
       "      background-color: #E2EBFA;\n",
       "      box-shadow: 0px 1px 2px rgba(60, 64, 67, 0.3), 0px 1px 3px 1px rgba(60, 64, 67, 0.15);\n",
       "      fill: #174EA6;\n",
       "    }\n",
       "\n",
       "    [theme=dark] .colab-df-convert {\n",
       "      background-color: #3B4455;\n",
       "      fill: #D2E3FC;\n",
       "    }\n",
       "\n",
       "    [theme=dark] .colab-df-convert:hover {\n",
       "      background-color: #434B5C;\n",
       "      box-shadow: 0px 1px 3px 1px rgba(0, 0, 0, 0.15);\n",
       "      filter: drop-shadow(0px 1px 2px rgba(0, 0, 0, 0.3));\n",
       "      fill: #FFFFFF;\n",
       "    }\n",
       "  </style>\n",
       "\n",
       "      <script>\n",
       "        const buttonEl =\n",
       "          document.querySelector('#df-ef560566-252c-42b5-978d-b5c93e2e5ff9 button.colab-df-convert');\n",
       "        buttonEl.style.display =\n",
       "          google.colab.kernel.accessAllowed ? 'block' : 'none';\n",
       "\n",
       "        async function convertToInteractive(key) {\n",
       "          const element = document.querySelector('#df-ef560566-252c-42b5-978d-b5c93e2e5ff9');\n",
       "          const dataTable =\n",
       "            await google.colab.kernel.invokeFunction('convertToInteractive',\n",
       "                                                     [key], {});\n",
       "          if (!dataTable) return;\n",
       "\n",
       "          const docLinkHtml = 'Like what you see? Visit the ' +\n",
       "            '<a target=\"_blank\" href=https://colab.research.google.com/notebooks/data_table.ipynb>data table notebook</a>'\n",
       "            + ' to learn more about interactive tables.';\n",
       "          element.innerHTML = '';\n",
       "          dataTable['output_type'] = 'display_data';\n",
       "          await google.colab.output.renderOutput(dataTable, element);\n",
       "          const docLink = document.createElement('div');\n",
       "          docLink.innerHTML = docLinkHtml;\n",
       "          element.appendChild(docLink);\n",
       "        }\n",
       "      </script>\n",
       "    </div>\n",
       "  </div>\n",
       "  "
      ],
      "text/plain": [
       "   F1  F2  F3  F4  F5  F6  F7  F8  F9  Class\n",
       "0   5   1   1   1   2   1   3   1   1      2\n",
       "1   5   4   4   5   7  10   3   2   1      2\n",
       "2   3   1   1   1   2   2   3   1   1      2\n",
       "3   6   8   8   1   3   4   3   7   1      2\n",
       "4   4   1   1   3   2   1   3   1   1      2"
      ]
     },
     "execution_count": 11,
     "metadata": {},
     "output_type": "execute_result"
    }
   ],
   "source": [
    "df.head()\n"
   ]
  },
  {
   "cell_type": "code",
   "execution_count": 10,
   "id": "377f7694",
   "metadata": {
    "id": "377f7694"
   },
   "outputs": [],
   "source": [
    "X_train,X_test,y_train,y_test=train_test_split(X,y,test_size=0.30)"
   ]
  },
  {
   "cell_type": "code",
   "execution_count": 13,
   "id": "Ah3gWBBjPt2b",
   "metadata": {
    "colab": {
     "base_uri": "https://localhost:8080/"
    },
    "id": "Ah3gWBBjPt2b",
    "outputId": "5179e0cf-e9c7-4a20-c982-bf8fa2352674"
   },
   "outputs": [
    {
     "name": "stdout",
     "output_type": "stream",
     "text": [
      "Epoch 1/50\n",
      "15/15 [==============================] - 1s 4ms/step - loss: 0.6968 - accuracy: 0.7008\n",
      "Epoch 2/50\n",
      "15/15 [==============================] - 0s 3ms/step - loss: 0.6309 - accuracy: 0.7238\n",
      "Epoch 3/50\n",
      "15/15 [==============================] - 0s 3ms/step - loss: 0.5707 - accuracy: 0.7385\n",
      "Epoch 4/50\n",
      "15/15 [==============================] - 0s 7ms/step - loss: 0.5177 - accuracy: 0.7678\n",
      "Epoch 5/50\n",
      "15/15 [==============================] - 0s 2ms/step - loss: 0.4682 - accuracy: 0.7908\n",
      "Epoch 6/50\n",
      "15/15 [==============================] - 0s 5ms/step - loss: 0.4248 - accuracy: 0.8075\n",
      "Epoch 7/50\n",
      "15/15 [==============================] - 0s 2ms/step - loss: 0.3876 - accuracy: 0.8326\n",
      "Epoch 8/50\n",
      "15/15 [==============================] - 0s 3ms/step - loss: 0.3549 - accuracy: 0.8515\n",
      "Epoch 9/50\n",
      "15/15 [==============================] - 0s 3ms/step - loss: 0.3262 - accuracy: 0.8724\n",
      "Epoch 10/50\n",
      "15/15 [==============================] - 0s 2ms/step - loss: 0.3011 - accuracy: 0.8870\n",
      "Epoch 11/50\n",
      "15/15 [==============================] - 0s 3ms/step - loss: 0.2803 - accuracy: 0.8933\n",
      "Epoch 12/50\n",
      "15/15 [==============================] - 0s 2ms/step - loss: 0.2611 - accuracy: 0.9017\n",
      "Epoch 13/50\n",
      "15/15 [==============================] - 0s 3ms/step - loss: 0.2449 - accuracy: 0.9079\n",
      "Epoch 14/50\n",
      "15/15 [==============================] - 0s 3ms/step - loss: 0.2294 - accuracy: 0.9142\n",
      "Epoch 15/50\n",
      "15/15 [==============================] - 0s 2ms/step - loss: 0.2164 - accuracy: 0.9184\n",
      "Epoch 16/50\n",
      "15/15 [==============================] - 0s 3ms/step - loss: 0.2049 - accuracy: 0.9247\n",
      "Epoch 17/50\n",
      "15/15 [==============================] - 0s 7ms/step - loss: 0.1946 - accuracy: 0.9310\n",
      "Epoch 18/50\n",
      "15/15 [==============================] - 0s 3ms/step - loss: 0.1851 - accuracy: 0.9310\n",
      "Epoch 19/50\n",
      "15/15 [==============================] - 0s 3ms/step - loss: 0.1772 - accuracy: 0.9351\n",
      "Epoch 20/50\n",
      "15/15 [==============================] - 0s 3ms/step - loss: 0.1699 - accuracy: 0.9351\n",
      "Epoch 21/50\n",
      "15/15 [==============================] - 0s 2ms/step - loss: 0.1633 - accuracy: 0.9414\n",
      "Epoch 22/50\n",
      "15/15 [==============================] - 0s 7ms/step - loss: 0.1576 - accuracy: 0.9435\n",
      "Epoch 23/50\n",
      "15/15 [==============================] - 0s 4ms/step - loss: 0.1521 - accuracy: 0.9435\n",
      "Epoch 24/50\n",
      "15/15 [==============================] - 0s 4ms/step - loss: 0.1473 - accuracy: 0.9456\n",
      "Epoch 25/50\n",
      "15/15 [==============================] - 0s 3ms/step - loss: 0.1430 - accuracy: 0.9540\n",
      "Epoch 26/50\n",
      "15/15 [==============================] - 0s 3ms/step - loss: 0.1392 - accuracy: 0.9540\n",
      "Epoch 27/50\n",
      "15/15 [==============================] - 0s 2ms/step - loss: 0.1355 - accuracy: 0.9540\n",
      "Epoch 28/50\n",
      "15/15 [==============================] - 0s 3ms/step - loss: 0.1325 - accuracy: 0.9540\n",
      "Epoch 29/50\n",
      "15/15 [==============================] - 0s 2ms/step - loss: 0.1294 - accuracy: 0.9540\n",
      "Epoch 30/50\n",
      "15/15 [==============================] - 0s 2ms/step - loss: 0.1267 - accuracy: 0.9561\n",
      "Epoch 31/50\n",
      "15/15 [==============================] - 0s 2ms/step - loss: 0.1245 - accuracy: 0.9582\n",
      "Epoch 32/50\n",
      "15/15 [==============================] - 0s 2ms/step - loss: 0.1220 - accuracy: 0.9603\n",
      "Epoch 33/50\n",
      "15/15 [==============================] - 0s 3ms/step - loss: 0.1201 - accuracy: 0.9603\n",
      "Epoch 34/50\n",
      "15/15 [==============================] - 0s 3ms/step - loss: 0.1182 - accuracy: 0.9603\n",
      "Epoch 35/50\n",
      "15/15 [==============================] - 0s 4ms/step - loss: 0.1165 - accuracy: 0.9603\n",
      "Epoch 36/50\n",
      "15/15 [==============================] - 0s 4ms/step - loss: 0.1149 - accuracy: 0.9603\n",
      "Epoch 37/50\n",
      "15/15 [==============================] - 0s 3ms/step - loss: 0.1135 - accuracy: 0.9603\n",
      "Epoch 38/50\n",
      "15/15 [==============================] - 0s 3ms/step - loss: 0.1121 - accuracy: 0.9603\n",
      "Epoch 39/50\n",
      "15/15 [==============================] - 0s 3ms/step - loss: 0.1107 - accuracy: 0.9603\n",
      "Epoch 40/50\n",
      "15/15 [==============================] - 0s 3ms/step - loss: 0.1096 - accuracy: 0.9603\n",
      "Epoch 41/50\n",
      "15/15 [==============================] - 0s 2ms/step - loss: 0.1086 - accuracy: 0.9603\n",
      "Epoch 42/50\n",
      "15/15 [==============================] - 0s 2ms/step - loss: 0.1075 - accuracy: 0.9603\n",
      "Epoch 43/50\n",
      "15/15 [==============================] - 0s 2ms/step - loss: 0.1065 - accuracy: 0.9603\n",
      "Epoch 44/50\n",
      "15/15 [==============================] - 0s 2ms/step - loss: 0.1056 - accuracy: 0.9603\n",
      "Epoch 45/50\n",
      "15/15 [==============================] - 0s 2ms/step - loss: 0.1047 - accuracy: 0.9603\n",
      "Epoch 46/50\n",
      "15/15 [==============================] - 0s 2ms/step - loss: 0.1040 - accuracy: 0.9623\n",
      "Epoch 47/50\n",
      "15/15 [==============================] - 0s 2ms/step - loss: 0.1031 - accuracy: 0.9623\n",
      "Epoch 48/50\n",
      "15/15 [==============================] - 0s 2ms/step - loss: 0.1024 - accuracy: 0.9623\n",
      "Epoch 49/50\n",
      "15/15 [==============================] - 0s 2ms/step - loss: 0.1017 - accuracy: 0.9623\n",
      "Epoch 50/50\n",
      "15/15 [==============================] - 0s 1ms/step - loss: 0.1011 - accuracy: 0.9644\n",
      "7/7 [==============================] - 0s 2ms/step - loss: 0.0819 - accuracy: 0.9610\n",
      "Test accuracy: 0.9609755873680115\n"
     ]
    }
   ],
   "source": [
    "scaler = StandardScaler()\n",
    "X_train = scaler.fit_transform(X_train)\n",
    "X_test = scaler.transform(X_test)\n",
    "\n",
    "from keras.models import Sequential\n",
    "from keras.layers import Dense\n",
    "\n",
    "model = Sequential()\n",
    "model.add(Dense(5, activation=\"relu\", input_dim=X_train.shape[1]))\n",
    "model.add(Dense(1, activation=\"sigmoid\"))\n",
    "\n",
    "model.compile(loss=\"binary_crossentropy\", optimizer=\"adam\", metrics=[\"accuracy\"])\n",
    "\n",
    "model.fit(X_train, y_train, epochs=50, batch_size=32)\n",
    "\n",
    "score = model.evaluate(X_test, y_test)\n",
    "print(\"Test accuracy:\", score[1])"
   ]
  },
  {
   "cell_type": "code",
   "execution_count": 14,
   "id": "ac1c4816",
   "metadata": {
    "colab": {
     "base_uri": "https://localhost:8080/"
    },
    "id": "ac1c4816",
    "outputId": "e447e677-4772-4dda-8162-243ac154c943"
   },
   "outputs": [
    {
     "name": "stdout",
     "output_type": "stream",
     "text": [
      "7/7 [==============================] - 0s 1ms/step\n",
      "Accuracy: 0.9609756097560975\n",
      "Precision: 0.9452054794520548\n",
      "Recall: 0.9452054794520548\n",
      "F1 Score: 0.9452054794520548\n"
     ]
    }
   ],
   "source": [
    "\n",
    "y_pred = model.predict(X_test)\n",
    "y_pred = np.round(y_pred)\n",
    "accuracy = accuracy_score(y_test, y_pred)\n",
    "precision = precision_score(y_test, y_pred)\n",
    "recall = recall_score(y_test, y_pred)\n",
    "f1 = f1_score(y_test, y_pred)\n",
    "\n",
    "print('Accuracy:', accuracy)\n",
    "print('Precision:', precision)\n",
    "print('Recall:', recall)\n",
    "print('F1 Score:', f1)"
   ]
  },
  {
   "cell_type": "code",
   "execution_count": null,
   "id": "d2a96e12",
   "metadata": {
    "id": "d2a96e12"
   },
   "outputs": [],
   "source": []
  },
  {
   "cell_type": "code",
   "execution_count": null,
   "id": "3f80a4e0",
   "metadata": {
    "id": "3f80a4e0"
   },
   "outputs": [],
   "source": []
  },
  {
   "cell_type": "markdown",
   "id": "ee07bbbd",
   "metadata": {
    "id": "ee07bbbd"
   },
   "source": []
  },
  {
   "cell_type": "code",
   "execution_count": null,
   "id": "0353b967",
   "metadata": {
    "id": "0353b967"
   },
   "outputs": [],
   "source": []
  },
  {
   "cell_type": "code",
   "execution_count": null,
   "id": "1319ea07",
   "metadata": {
    "id": "1319ea07"
   },
   "outputs": [],
   "source": []
  }
 ],
 "metadata": {
  "colab": {
   "provenance": []
  },
  "kernelspec": {
   "display_name": "Python 3 (ipykernel)",
   "language": "python",
   "name": "python3"
  },
  "language_info": {
   "codemirror_mode": {
    "name": "ipython",
    "version": 3
   },
   "file_extension": ".py",
   "mimetype": "text/x-python",
   "name": "python",
   "nbconvert_exporter": "python",
   "pygments_lexer": "ipython3",
   "version": "3.9.13"
  }
 },
 "nbformat": 4,
 "nbformat_minor": 5
}
