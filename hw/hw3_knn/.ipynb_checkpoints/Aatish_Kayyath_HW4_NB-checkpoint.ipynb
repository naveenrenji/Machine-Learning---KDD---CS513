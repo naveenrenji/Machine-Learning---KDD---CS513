{
 "cells": [
  {
   "cell_type": "markdown",
   "id": "efd5cb70",
   "metadata": {},
   "source": [
    "The “breast cancer dataset” in CANVAS was obtained from the University of \n",
    "Wisconsin Hospitals, Madison from Dr. William H. Wolberg. The features in the \n",
    "dataset, described below, have been categorized from 1 to 10.\n",
    "Use the Naïve Bayes methodology to develop a classification model for the \n",
    "Diagnosis. \n",
    "Important: make sure your categories are represented by the “factor” data \n",
    "type in R and delete the rows with missing values. Use 30% test 70% training \n",
    "data  "
   ]
  },
  {
   "cell_type": "code",
   "execution_count": 1,
   "id": "77b35385",
   "metadata": {},
   "outputs": [],
   "source": [
    "import numpy as np\n",
    "import pandas as pd\n",
    "from sklearn.model_selection import train_test_split\n",
    "from sklearn.neighbors import KNeighborsClassifier\n",
    "from sklearn.naive_bayes import GaussianNB\n",
    "import matplotlib.pyplot as plt \n",
    "import seaborn as sns\n",
    "from sklearn.metrics import accuracy_score, precision_score, recall_score, f1_score\n"
   ]
  },
  {
   "cell_type": "code",
   "execution_count": 2,
   "id": "d79f032c",
   "metadata": {},
   "outputs": [],
   "source": [
    "df=pd.read_csv('breast-cancer-wisconsin.csv')\n"
   ]
  },
  {
   "cell_type": "code",
   "execution_count": 3,
   "id": "6e468ec6",
   "metadata": {},
   "outputs": [],
   "source": [
    "del df['Sample']"
   ]
  },
  {
   "cell_type": "code",
   "execution_count": 4,
   "id": "2f071eaf",
   "metadata": {},
   "outputs": [
    {
     "data": {
      "text/plain": [
       "(699, 10)"
      ]
     },
     "execution_count": 4,
     "metadata": {},
     "output_type": "execute_result"
    }
   ],
   "source": [
    "df.shape"
   ]
  },
  {
   "cell_type": "code",
   "execution_count": 5,
   "id": "bbe3cec3",
   "metadata": {},
   "outputs": [],
   "source": [
    "#delete rows with missing values\n",
    "df['F6']=df['F6'].replace('?',np.nan)\n",
    "df = df.dropna()"
   ]
  },
  {
   "cell_type": "code",
   "execution_count": 6,
   "id": "d4ecdec7",
   "metadata": {},
   "outputs": [
    {
     "data": {
      "text/plain": [
       "(683, 10)"
      ]
     },
     "execution_count": 6,
     "metadata": {},
     "output_type": "execute_result"
    }
   ],
   "source": [
    "df.shape"
   ]
  },
  {
   "cell_type": "code",
   "execution_count": 7,
   "id": "59a26adb",
   "metadata": {},
   "outputs": [],
   "source": [
    "y=df['Class']\n",
    "X=df.drop('Class',axis=1).values"
   ]
  },
  {
   "cell_type": "code",
   "execution_count": 8,
   "id": "3e6f37e1",
   "metadata": {},
   "outputs": [],
   "source": [
    "y=np.where(y==2,0,1)"
   ]
  },
  {
   "cell_type": "code",
   "execution_count": null,
   "id": "e79f2a0b",
   "metadata": {},
   "outputs": [],
   "source": []
  },
  {
   "cell_type": "code",
   "execution_count": 9,
   "id": "377f7694",
   "metadata": {},
   "outputs": [],
   "source": [
    "X_train,X_test,y_train,y_test=train_test_split(X,y,test_size=0.30)"
   ]
  },
  {
   "cell_type": "code",
   "execution_count": 10,
   "id": "ac1c4816",
   "metadata": {},
   "outputs": [
    {
     "name": "stdout",
     "output_type": "stream",
     "text": [
      "Accuracy: 0.9609756097560975\n",
      "Precision: 0.9512195121951219\n",
      "Recall: 0.9512195121951219\n",
      "F1 Score: 0.9512195121951219\n"
     ]
    }
   ],
   "source": [
    "naivebayes_model = GaussianNB()\n",
    "naivebayes_model.fit(X_train, y_train)\n",
    "y_pred = naivebayes_model.predict(X_test)\n",
    "accuracy = accuracy_score(y_test, y_pred)\n",
    "precision = precision_score(y_test, y_pred)\n",
    "recall = recall_score(y_test, y_pred)\n",
    "f1 = f1_score(y_test, y_pred)\n",
    "\n",
    "print('Accuracy:', accuracy)\n",
    "print('Precision:', precision)\n",
    "print('Recall:', recall)\n",
    "print('F1 Score:', f1)"
   ]
  },
  {
   "cell_type": "code",
   "execution_count": null,
   "id": "d2a96e12",
   "metadata": {},
   "outputs": [],
   "source": []
  },
  {
   "cell_type": "code",
   "execution_count": null,
   "id": "3f80a4e0",
   "metadata": {},
   "outputs": [],
   "source": []
  },
  {
   "cell_type": "markdown",
   "id": "ee07bbbd",
   "metadata": {},
   "source": []
  },
  {
   "cell_type": "code",
   "execution_count": null,
   "id": "0353b967",
   "metadata": {},
   "outputs": [],
   "source": []
  },
  {
   "cell_type": "code",
   "execution_count": null,
   "id": "1319ea07",
   "metadata": {},
   "outputs": [],
   "source": []
  }
 ],
 "metadata": {
  "kernelspec": {
   "display_name": "Python 3 (ipykernel)",
   "language": "python",
   "name": "python3"
  },
  "language_info": {
   "codemirror_mode": {
    "name": "ipython",
    "version": 3
   },
   "file_extension": ".py",
   "mimetype": "text/x-python",
   "name": "python",
   "nbconvert_exporter": "python",
   "pygments_lexer": "ipython3",
   "version": "3.9.13"
  }
 },
 "nbformat": 4,
 "nbformat_minor": 5
}
